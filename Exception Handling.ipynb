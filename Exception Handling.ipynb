{
 "cells": [
  {
   "cell_type": "code",
   "execution_count": 1,
   "id": "0142007b",
   "metadata": {},
   "outputs": [],
   "source": [
    "import pandas as pd"
   ]
  },
  {
   "cell_type": "markdown",
   "id": "da2cf73d",
   "metadata": {},
   "source": [
    "# Exception handling"
   ]
  },
  {
   "cell_type": "code",
   "execution_count": 2,
   "id": "f360e9a2",
   "metadata": {},
   "outputs": [
    {
     "data": {
      "text/plain": [
       "0.5"
      ]
     },
     "execution_count": 2,
     "metadata": {},
     "output_type": "execute_result"
    }
   ],
   "source": [
    "a = 5\n",
    "a/10"
   ]
  },
  {
   "cell_type": "code",
   "execution_count": 3,
   "id": "afa3aa03",
   "metadata": {},
   "outputs": [
    {
     "name": "stdout",
     "output_type": "stream",
     "text": [
      "not working\n"
     ]
    }
   ],
   "source": [
    "f = open(\"test.txt\",\"r\")\n",
    "print(\"not working\")"
   ]
  },
  {
   "cell_type": "code",
   "execution_count": 4,
   "id": "90b462dd",
   "metadata": {},
   "outputs": [
    {
     "ename": "SyntaxError",
     "evalue": "unexpected EOF while parsing (<ipython-input-4-5dfdfdc1c663>, line 3)",
     "output_type": "error",
     "traceback": [
      "\u001b[1;36m  File \u001b[1;32m\"<ipython-input-4-5dfdfdc1c663>\"\u001b[1;36m, line \u001b[1;32m3\u001b[0m\n\u001b[1;33m    f.write(\"this is a trial\")\u001b[0m\n\u001b[1;37m                              ^\u001b[0m\n\u001b[1;31mSyntaxError\u001b[0m\u001b[1;31m:\u001b[0m unexpected EOF while parsing\n"
     ]
    }
   ],
   "source": [
    "try :\n",
    "    f = open('test.txt',\"r\")\n",
    "    f.write(\"this is a trial\")"
   ]
  },
  {
   "cell_type": "code",
   "execution_count": null,
   "id": "670e2ee9",
   "metadata": {},
   "outputs": [],
   "source": [
    "a = 5\n",
    "b = int(input())\n",
    "a/b"
   ]
  },
  {
   "cell_type": "code",
   "execution_count": null,
   "id": "f9df11fe",
   "metadata": {},
   "outputs": [],
   "source": [
    "try :\n",
    "    f = open('test.txt',\"r\")\n",
    "    f.write(\"this is a trial\")\n",
    "    \n",
    "except :\n",
    "    print(\"there is mistake\")\n",
    "    \n",
    "print(\"this is my code\")"
   ]
  },
  {
   "cell_type": "code",
   "execution_count": null,
   "id": "a09087c0",
   "metadata": {},
   "outputs": [],
   "source": [
    "l = [4,5,6,7,8,9]\n",
    "try:\n",
    "    \n",
    "    for i in range(len(l)):\n",
    "        print(l)\n",
    "        \n",
    "except:\n",
    "    print(\"this is my code \")"
   ]
  },
  {
   "cell_type": "code",
   "execution_count": null,
   "id": "e706d0d3",
   "metadata": {},
   "outputs": [],
   "source": [
    "l = [4,5,6,7,8,9]\n",
    "\n",
    "try:\n",
    "    \n",
    "    for i in range(len(l)+1):\n",
    "        print(l[i])\n",
    "        \n",
    "except Exception as e:\n",
    "    print(e)\n",
    "    \n",
    "print(\" my name is bhaskar \")"
   ]
  },
  {
   "cell_type": "code",
   "execution_count": null,
   "id": "13398687",
   "metadata": {},
   "outputs": [],
   "source": [
    "5/0"
   ]
  },
  {
   "cell_type": "code",
   "execution_count": null,
   "id": "f6910cde",
   "metadata": {},
   "outputs": [],
   "source": [
    "try:\n",
    "    a = int(input())\n",
    "    b = int(input())\n",
    "except Exception as e:\n",
    "    print(e)\n"
   ]
  },
  {
   "cell_type": "code",
   "execution_count": null,
   "id": "387153c0",
   "metadata": {},
   "outputs": [],
   "source": []
  },
  {
   "cell_type": "code",
   "execution_count": null,
   "id": "5c75fabd",
   "metadata": {},
   "outputs": [],
   "source": []
  },
  {
   "cell_type": "code",
   "execution_count": null,
   "id": "bd8090d5",
   "metadata": {},
   "outputs": [],
   "source": []
  },
  {
   "cell_type": "code",
   "execution_count": null,
   "id": "6799c302",
   "metadata": {},
   "outputs": [],
   "source": []
  },
  {
   "cell_type": "code",
   "execution_count": null,
   "id": "44239cac",
   "metadata": {},
   "outputs": [],
   "source": []
  },
  {
   "cell_type": "code",
   "execution_count": null,
   "id": "655d51ec",
   "metadata": {},
   "outputs": [],
   "source": []
  },
  {
   "cell_type": "code",
   "execution_count": null,
   "id": "dd4c44cc",
   "metadata": {},
   "outputs": [],
   "source": []
  }
 ],
 "metadata": {
  "kernelspec": {
   "display_name": "Python 3",
   "language": "python",
   "name": "python3"
  },
  "language_info": {
   "codemirror_mode": {
    "name": "ipython",
    "version": 3
   },
   "file_extension": ".py",
   "mimetype": "text/x-python",
   "name": "python",
   "nbconvert_exporter": "python",
   "pygments_lexer": "ipython3",
   "version": "3.8.8"
  }
 },
 "nbformat": 4,
 "nbformat_minor": 5
}
