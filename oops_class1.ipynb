{
 "cells": [
  {
   "cell_type": "code",
   "execution_count": 7,
   "id": "43d8e8d7",
   "metadata": {},
   "outputs": [],
   "source": [
    "class car:\n",
    "    def __init__(self, body_type,engine, fuel_type):\n",
    "        self.body_type1 = body_type\n",
    "        self.engine = engine\n",
    "        self.fuel_type = fuel_type\n",
    "        \n",
    "    def test(self):\n",
    "        print(\"this is my first method in my car class \")\n",
    "        \n",
    "    "
   ]
  },
  {
   "cell_type": "code",
   "execution_count": 8,
   "id": "97d6a41b",
   "metadata": {},
   "outputs": [],
   "source": [
    "fortuner = car('suv','bs4','petrol')"
   ]
  },
  {
   "cell_type": "code",
   "execution_count": 9,
   "id": "5dd3004d",
   "metadata": {},
   "outputs": [
    {
     "ename": "AttributeError",
     "evalue": "'car' object has no attribute 'body_type'",
     "output_type": "error",
     "traceback": [
      "\u001b[1;31m---------------------------------------------------------------------------\u001b[0m",
      "\u001b[1;31mAttributeError\u001b[0m                            Traceback (most recent call last)",
      "\u001b[1;32mC:\\Users\\SAIRAM~1\\AppData\\Local\\Temp/ipykernel_24288/3138332200.py\u001b[0m in \u001b[0;36m<module>\u001b[1;34m\u001b[0m\n\u001b[1;32m----> 1\u001b[1;33m \u001b[0mfortuner\u001b[0m\u001b[1;33m.\u001b[0m\u001b[0mbody_type\u001b[0m\u001b[1;33m\u001b[0m\u001b[1;33m\u001b[0m\u001b[0m\n\u001b[0m",
      "\u001b[1;31mAttributeError\u001b[0m: 'car' object has no attribute 'body_type'"
     ]
    }
   ],
   "source": [
    "fortuner.body_type"
   ]
  },
  {
   "cell_type": "code",
   "execution_count": 10,
   "id": "450500f9",
   "metadata": {},
   "outputs": [
    {
     "data": {
      "text/plain": [
       "'suv'"
      ]
     },
     "execution_count": 10,
     "metadata": {},
     "output_type": "execute_result"
    }
   ],
   "source": [
    "fortuner.body_type1"
   ]
  },
  {
   "cell_type": "code",
   "execution_count": 11,
   "id": "e3fe91e2",
   "metadata": {},
   "outputs": [],
   "source": [
    "class car:\n",
    "    def __init__(self, body_type,engine, fuel_type):\n",
    "        self.a = body_type\n",
    "        self.b = engine\n",
    "        self.c = fuel_type\n",
    "        \n",
    "    def test(self):\n",
    "        print(\"this is my first method in my car class \")\n",
    "        \n",
    "    "
   ]
  },
  {
   "cell_type": "code",
   "execution_count": 12,
   "id": "6fb99cd9",
   "metadata": {},
   "outputs": [],
   "source": [
    "fortuner = car('suv','bs4','petrol')"
   ]
  },
  {
   "cell_type": "code",
   "execution_count": 14,
   "id": "a10000f8",
   "metadata": {},
   "outputs": [
    {
     "data": {
      "text/plain": [
       "'suv'"
      ]
     },
     "execution_count": 14,
     "metadata": {},
     "output_type": "execute_result"
    }
   ],
   "source": [
    "fortuner.a"
   ]
  },
  {
   "cell_type": "code",
   "execution_count": 15,
   "id": "d17dc9f1",
   "metadata": {},
   "outputs": [
    {
     "data": {
      "text/plain": [
       "'bs4'"
      ]
     },
     "execution_count": 15,
     "metadata": {},
     "output_type": "execute_result"
    }
   ],
   "source": [
    "fortuner.b"
   ]
  },
  {
   "cell_type": "code",
   "execution_count": 16,
   "id": "5f660e77",
   "metadata": {},
   "outputs": [
    {
     "data": {
      "text/plain": [
       "'petrol'"
      ]
     },
     "execution_count": 16,
     "metadata": {},
     "output_type": "execute_result"
    }
   ],
   "source": [
    "fortuner.c"
   ]
  },
  {
   "cell_type": "code",
   "execution_count": null,
   "id": "e133886b",
   "metadata": {},
   "outputs": [],
   "source": []
  },
  {
   "cell_type": "code",
   "execution_count": 22,
   "id": "bb55242f",
   "metadata": {},
   "outputs": [],
   "source": [
    "class car:\n",
    "    def __init__(ram, body_type,engine, fuel_type):\n",
    "        ram.a = body_type\n",
    "        ram.b = engine\n",
    "        ram.c = fuel_type\n",
    "        \n",
    "    def test(ram):\n",
    "        print(\"this is my first method in my car class \")\n",
    "        \n",
    "    "
   ]
  },
  {
   "cell_type": "code",
   "execution_count": 23,
   "id": "0bea85d8",
   "metadata": {},
   "outputs": [],
   "source": [
    "fortuner = car('suv','bs4','petrol')"
   ]
  },
  {
   "cell_type": "code",
   "execution_count": 24,
   "id": "53f04adc",
   "metadata": {},
   "outputs": [
    {
     "data": {
      "text/plain": [
       "'suv'"
      ]
     },
     "execution_count": 24,
     "metadata": {},
     "output_type": "execute_result"
    }
   ],
   "source": [
    "fortuner.a"
   ]
  },
  {
   "cell_type": "code",
   "execution_count": 25,
   "id": "11f7398d",
   "metadata": {},
   "outputs": [
    {
     "data": {
      "text/plain": [
       "'bs4'"
      ]
     },
     "execution_count": 25,
     "metadata": {},
     "output_type": "execute_result"
    }
   ],
   "source": [
    "fortuner.b"
   ]
  },
  {
   "cell_type": "code",
   "execution_count": 26,
   "id": "1dd9fe35",
   "metadata": {},
   "outputs": [
    {
     "data": {
      "text/plain": [
       "'petrol'"
      ]
     },
     "execution_count": 26,
     "metadata": {},
     "output_type": "execute_result"
    }
   ],
   "source": [
    "fortuner.c"
   ]
  },
  {
   "cell_type": "code",
   "execution_count": 28,
   "id": "88168be8",
   "metadata": {},
   "outputs": [
    {
     "name": "stdout",
     "output_type": "stream",
     "text": [
      "this is my first method in my car class \n"
     ]
    }
   ],
   "source": [
    "fortuner.test()"
   ]
  },
  {
   "cell_type": "code",
   "execution_count": null,
   "id": "78be2477",
   "metadata": {},
   "outputs": [],
   "source": []
  },
  {
   "cell_type": "code",
   "execution_count": 39,
   "id": "acddd750",
   "metadata": {},
   "outputs": [],
   "source": [
    "class car:\n",
    "    \n",
    "    def test(ram):\n",
    "        print(\"this is my first method in my car class \")\n",
    "        \n",
    "    "
   ]
  },
  {
   "cell_type": "code",
   "execution_count": 35,
   "id": "d5a2c15c",
   "metadata": {},
   "outputs": [],
   "source": [
    "x = car()"
   ]
  },
  {
   "cell_type": "code",
   "execution_count": 37,
   "id": "c5d8a990",
   "metadata": {},
   "outputs": [
    {
     "name": "stdout",
     "output_type": "stream",
     "text": [
      "this is my first method in my car class \n"
     ]
    }
   ],
   "source": [
    "x.test()"
   ]
  },
  {
   "cell_type": "code",
   "execution_count": 40,
   "id": "5259fa3f",
   "metadata": {},
   "outputs": [],
   "source": [
    "class car:\n",
    "    \n",
    "    def test(ram,b,c):\n",
    "        print(\"this is my first method in my car class \")\n",
    "        \n",
    "    "
   ]
  },
  {
   "cell_type": "code",
   "execution_count": 41,
   "id": "09d5a279",
   "metadata": {},
   "outputs": [],
   "source": [
    "x = car()"
   ]
  },
  {
   "cell_type": "code",
   "execution_count": 43,
   "id": "c7a1487c",
   "metadata": {},
   "outputs": [
    {
     "ename": "TypeError",
     "evalue": "test() takes 3 positional arguments but 4 were given",
     "output_type": "error",
     "traceback": [
      "\u001b[1;31m---------------------------------------------------------------------------\u001b[0m",
      "\u001b[1;31mTypeError\u001b[0m                                 Traceback (most recent call last)",
      "\u001b[1;32mC:\\Users\\SAIRAM~1\\AppData\\Local\\Temp/ipykernel_24288/3840697293.py\u001b[0m in \u001b[0;36m<module>\u001b[1;34m\u001b[0m\n\u001b[1;32m----> 1\u001b[1;33m \u001b[0mx\u001b[0m\u001b[1;33m.\u001b[0m\u001b[0mtest\u001b[0m\u001b[1;33m(\u001b[0m\u001b[1;36m4\u001b[0m\u001b[1;33m,\u001b[0m\u001b[1;36m5\u001b[0m\u001b[1;33m,\u001b[0m\u001b[1;34m\"bhaskar\"\u001b[0m\u001b[1;33m)\u001b[0m\u001b[1;33m\u001b[0m\u001b[1;33m\u001b[0m\u001b[0m\n\u001b[0m",
      "\u001b[1;31mTypeError\u001b[0m: test() takes 3 positional arguments but 4 were given"
     ]
    }
   ],
   "source": [
    "x.test(4,5,\"bhaskar\")"
   ]
  },
  {
   "cell_type": "code",
   "execution_count": 44,
   "id": "16d6627b",
   "metadata": {},
   "outputs": [
    {
     "name": "stdout",
     "output_type": "stream",
     "text": [
      "<class '__main__.car'>\n"
     ]
    }
   ],
   "source": [
    "print(type(x))"
   ]
  },
  {
   "cell_type": "code",
   "execution_count": null,
   "id": "5b6834db",
   "metadata": {},
   "outputs": [],
   "source": []
  },
  {
   "cell_type": "code",
   "execution_count": 58,
   "id": "a99d0eac",
   "metadata": {},
   "outputs": [],
   "source": [
    "class list_parser:   \n",
    "    def parcer(self,a):\n",
    "        if type(a) == list:\n",
    "            for i in a:\n",
    "                print(i)\n",
    "                \n",
    "    def reverser_list(self,z):\n",
    "        if type(z) == list:\n",
    "            return z[::-1]\n",
    "    "
   ]
  },
  {
   "cell_type": "code",
   "execution_count": 55,
   "id": "7f7601fa",
   "metadata": {},
   "outputs": [],
   "source": []
  },
  {
   "cell_type": "code",
   "execution_count": 56,
   "id": "00e7a4ef",
   "metadata": {},
   "outputs": [
    {
     "ename": "TypeError",
     "evalue": "__init__() missing 1 required positional argument: 'l'",
     "output_type": "error",
     "traceback": [
      "\u001b[1;31m---------------------------------------------------------------------------\u001b[0m",
      "\u001b[1;31mTypeError\u001b[0m                                 Traceback (most recent call last)",
      "\u001b[1;32mC:\\Users\\SAIRAM~1\\AppData\\Local\\Temp/ipykernel_24288/2675748045.py\u001b[0m in \u001b[0;36m<module>\u001b[1;34m\u001b[0m\n\u001b[1;32m----> 1\u001b[1;33m \u001b[0mc\u001b[0m \u001b[1;33m=\u001b[0m \u001b[0mlist_parser\u001b[0m\u001b[1;33m(\u001b[0m\u001b[1;33m)\u001b[0m\u001b[1;33m\u001b[0m\u001b[1;33m\u001b[0m\u001b[0m\n\u001b[0m\u001b[0;32m      2\u001b[0m \u001b[0mc\u001b[0m\u001b[1;33m.\u001b[0m\u001b[0mparcer\u001b[0m\u001b[1;33m(\u001b[0m\u001b[1;33m[\u001b[0m\u001b[1;36m2\u001b[0m\u001b[1;33m,\u001b[0m\u001b[1;36m3\u001b[0m\u001b[1;33m,\u001b[0m\u001b[1;36m45\u001b[0m\u001b[1;33m,\u001b[0m\u001b[1;36m6\u001b[0m\u001b[1;33m,\u001b[0m\u001b[1;36m9\u001b[0m\u001b[1;33m,\u001b[0m\u001b[1;36m5\u001b[0m\u001b[1;33m]\u001b[0m\u001b[1;33m)\u001b[0m\u001b[1;33m\u001b[0m\u001b[1;33m\u001b[0m\u001b[0m\n",
      "\u001b[1;31mTypeError\u001b[0m: __init__() missing 1 required positional argument: 'l'"
     ]
    }
   ],
   "source": [
    "c = list_parser()\n",
    "c.parcer([2,3,45,6,9,5])"
   ]
  },
  {
   "cell_type": "code",
   "execution_count": 57,
   "id": "77e53ecc",
   "metadata": {},
   "outputs": [
    {
     "data": {
      "text/plain": [
       "[5, 9, 6, 45, 3, 2]"
      ]
     },
     "execution_count": 57,
     "metadata": {},
     "output_type": "execute_result"
    }
   ],
   "source": [
    "c.reverser_list([2,3,45,6,9,5])"
   ]
  },
  {
   "cell_type": "code",
   "execution_count": null,
   "id": "198336cb",
   "metadata": {},
   "outputs": [],
   "source": []
  },
  {
   "cell_type": "code",
   "execution_count": 60,
   "id": "822c9449",
   "metadata": {},
   "outputs": [],
   "source": [
    "class list_parser:\n",
    "    \n",
    "    def __init__(self,l):\n",
    "        self.l = l\n",
    "        \n",
    "    def parcer(self):\n",
    "        if type(self.l) == list:\n",
    "            for i in self.l:\n",
    "                print(i)\n",
    "                \n",
    "    def reverser_list(self):\n",
    "        if type(self.l) == list:\n",
    "            return self.l[::-1]\n",
    "    "
   ]
  },
  {
   "cell_type": "code",
   "execution_count": 62,
   "id": "aadd91d9",
   "metadata": {},
   "outputs": [],
   "source": [
    "c = list_parser([1,2,3,4,5,6,7])"
   ]
  },
  {
   "cell_type": "code",
   "execution_count": 63,
   "id": "d084711f",
   "metadata": {},
   "outputs": [
    {
     "data": {
      "text/plain": [
       "[7, 6, 5, 4, 3, 2, 1]"
      ]
     },
     "execution_count": 63,
     "metadata": {},
     "output_type": "execute_result"
    }
   ],
   "source": [
    "c.reverser_list()"
   ]
  },
  {
   "cell_type": "markdown",
   "id": "5f7546f6",
   "metadata": {},
   "source": [
    "#Task:\n",
    "\t1. Create a class for dictionary parsing \n",
    "\t2. Write a function to give all the keys\n",
    "\t3. Write a function to an error in case of input is not dictionary\n",
    "\t4. Write a function for take user input and then parse a key and value out of dictionary \n",
    "    5. Write a function to insert new key value pair into dictionary"
   ]
  },
  {
   "cell_type": "code",
   "execution_count": 84,
   "id": "7c85bf5f",
   "metadata": {},
   "outputs": [],
   "source": [
    "class dict_parsing:\n",
    "    def __init__(self,d):\n",
    "        self.d = d\n",
    "        \n",
    "    def parcer(self):\n",
    "        if type(self.d) == dict:\n",
    "            for i in self.d:\n",
    "                return dict.keys(i)\n",
    "            \n",
    "    def error_handling(self):\n",
    "        if self.d == dict:\n",
    "            try:\n",
    "                print(\"entered input is dict \")\n",
    "                \n",
    "            except:\n",
    "                print(\"Given input is not a dict \")\n",
    "                \n",
    "                \n",
    "    def enter_dict(self):\n",
    "        self.d = input()\n",
    "        \n",
    "            \n",
    "            "
   ]
  },
  {
   "cell_type": "code",
   "execution_count": 85,
   "id": "0182ef60",
   "metadata": {},
   "outputs": [],
   "source": [
    "d1 = dict_parsing({\"Name:\" : \"Sairam\", \"ID:\": 22})"
   ]
  },
  {
   "cell_type": "code",
   "execution_count": 86,
   "id": "61000767",
   "metadata": {},
   "outputs": [
    {
     "ename": "TypeError",
     "evalue": "descriptor 'keys' for 'dict' objects doesn't apply to a 'str' object",
     "output_type": "error",
     "traceback": [
      "\u001b[1;31m---------------------------------------------------------------------------\u001b[0m",
      "\u001b[1;31mTypeError\u001b[0m                                 Traceback (most recent call last)",
      "\u001b[1;32mC:\\Users\\SAIRAM~1\\AppData\\Local\\Temp/ipykernel_24288/165520850.py\u001b[0m in \u001b[0;36m<module>\u001b[1;34m\u001b[0m\n\u001b[1;32m----> 1\u001b[1;33m \u001b[0md1\u001b[0m\u001b[1;33m.\u001b[0m\u001b[0mparcer\u001b[0m\u001b[1;33m(\u001b[0m\u001b[1;33m)\u001b[0m\u001b[1;33m\u001b[0m\u001b[1;33m\u001b[0m\u001b[0m\n\u001b[0m",
      "\u001b[1;32mC:\\Users\\SAIRAM~1\\AppData\\Local\\Temp/ipykernel_24288/937183143.py\u001b[0m in \u001b[0;36mparcer\u001b[1;34m(self)\u001b[0m\n\u001b[0;32m      6\u001b[0m         \u001b[1;32mif\u001b[0m \u001b[0mtype\u001b[0m\u001b[1;33m(\u001b[0m\u001b[0mself\u001b[0m\u001b[1;33m.\u001b[0m\u001b[0md\u001b[0m\u001b[1;33m)\u001b[0m \u001b[1;33m==\u001b[0m \u001b[0mdict\u001b[0m\u001b[1;33m:\u001b[0m\u001b[1;33m\u001b[0m\u001b[1;33m\u001b[0m\u001b[0m\n\u001b[0;32m      7\u001b[0m             \u001b[1;32mfor\u001b[0m \u001b[0mi\u001b[0m \u001b[1;32min\u001b[0m \u001b[0mself\u001b[0m\u001b[1;33m.\u001b[0m\u001b[0md\u001b[0m\u001b[1;33m:\u001b[0m\u001b[1;33m\u001b[0m\u001b[1;33m\u001b[0m\u001b[0m\n\u001b[1;32m----> 8\u001b[1;33m                 \u001b[1;32mreturn\u001b[0m \u001b[0mdict\u001b[0m\u001b[1;33m.\u001b[0m\u001b[0mkeys\u001b[0m\u001b[1;33m(\u001b[0m\u001b[0mi\u001b[0m\u001b[1;33m)\u001b[0m\u001b[1;33m\u001b[0m\u001b[1;33m\u001b[0m\u001b[0m\n\u001b[0m\u001b[0;32m      9\u001b[0m \u001b[1;33m\u001b[0m\u001b[0m\n\u001b[0;32m     10\u001b[0m \u001b[1;33m\u001b[0m\u001b[0m\n",
      "\u001b[1;31mTypeError\u001b[0m: descriptor 'keys' for 'dict' objects doesn't apply to a 'str' object"
     ]
    }
   ],
   "source": [
    "d1.parcer()"
   ]
  },
  {
   "cell_type": "code",
   "execution_count": null,
   "id": "8213f006",
   "metadata": {},
   "outputs": [],
   "source": []
  },
  {
   "cell_type": "code",
   "execution_count": 87,
   "id": "aa082aff",
   "metadata": {},
   "outputs": [],
   "source": [
    "class dict_parse:\n",
    "    \n",
    "    def __init__(self,d):\n",
    "        self.d = d\n",
    "        \n",
    "    \n",
    "        \n",
    "    def keys_dict(self):\n",
    "        if type(self.d) == dict:\n",
    "            for i in self.d:\n",
    "                return list.self.d.keys\n",
    "            \n",
    "    def error_handling(self):\n",
    "        if self.d == dict:\n",
    "            try:\n",
    "                print(\"entered input is dict \")\n",
    "                \n",
    "            except:\n",
    "                print(\"Given input is not a dict \")\n",
    "                \n",
    "                \n",
    "    def enter_dict(self):\n",
    "        self.d = input()\n",
    "        \n",
    "            \n",
    "            "
   ]
  },
  {
   "cell_type": "code",
   "execution_count": 89,
   "id": "feef1599",
   "metadata": {},
   "outputs": [],
   "source": [
    "d1 = dict_parse({\"Name:\" : \"Sairam\", \"ID:\": 22})"
   ]
  },
  {
   "cell_type": "code",
   "execution_count": 90,
   "id": "6ab0d2ec",
   "metadata": {},
   "outputs": [
    {
     "ename": "AttributeError",
     "evalue": "type object 'list' has no attribute 'self'",
     "output_type": "error",
     "traceback": [
      "\u001b[1;31m---------------------------------------------------------------------------\u001b[0m",
      "\u001b[1;31mAttributeError\u001b[0m                            Traceback (most recent call last)",
      "\u001b[1;32mC:\\Users\\SAIRAM~1\\AppData\\Local\\Temp/ipykernel_24288/2055838233.py\u001b[0m in \u001b[0;36m<module>\u001b[1;34m\u001b[0m\n\u001b[1;32m----> 1\u001b[1;33m \u001b[0md1\u001b[0m\u001b[1;33m.\u001b[0m\u001b[0mkeys_dict\u001b[0m\u001b[1;33m(\u001b[0m\u001b[1;33m)\u001b[0m\u001b[1;33m\u001b[0m\u001b[1;33m\u001b[0m\u001b[0m\n\u001b[0m",
      "\u001b[1;32mC:\\Users\\SAIRAM~1\\AppData\\Local\\Temp/ipykernel_24288/4256089541.py\u001b[0m in \u001b[0;36mkeys_dict\u001b[1;34m(self)\u001b[0m\n\u001b[0;32m      9\u001b[0m         \u001b[1;32mif\u001b[0m \u001b[0mtype\u001b[0m\u001b[1;33m(\u001b[0m\u001b[0mself\u001b[0m\u001b[1;33m.\u001b[0m\u001b[0md\u001b[0m\u001b[1;33m)\u001b[0m \u001b[1;33m==\u001b[0m \u001b[0mdict\u001b[0m\u001b[1;33m:\u001b[0m\u001b[1;33m\u001b[0m\u001b[1;33m\u001b[0m\u001b[0m\n\u001b[0;32m     10\u001b[0m             \u001b[1;32mfor\u001b[0m \u001b[0mi\u001b[0m \u001b[1;32min\u001b[0m \u001b[0mself\u001b[0m\u001b[1;33m.\u001b[0m\u001b[0md\u001b[0m\u001b[1;33m:\u001b[0m\u001b[1;33m\u001b[0m\u001b[1;33m\u001b[0m\u001b[0m\n\u001b[1;32m---> 11\u001b[1;33m                 \u001b[1;32mreturn\u001b[0m \u001b[0mlist\u001b[0m\u001b[1;33m.\u001b[0m\u001b[0mself\u001b[0m\u001b[1;33m.\u001b[0m\u001b[0md\u001b[0m\u001b[1;33m.\u001b[0m\u001b[0mkeys\u001b[0m\u001b[1;33m\u001b[0m\u001b[1;33m\u001b[0m\u001b[0m\n\u001b[0m\u001b[0;32m     12\u001b[0m \u001b[1;33m\u001b[0m\u001b[0m\n\u001b[0;32m     13\u001b[0m     \u001b[1;32mdef\u001b[0m \u001b[0merror_handling\u001b[0m\u001b[1;33m(\u001b[0m\u001b[0mself\u001b[0m\u001b[1;33m)\u001b[0m\u001b[1;33m:\u001b[0m\u001b[1;33m\u001b[0m\u001b[1;33m\u001b[0m\u001b[0m\n",
      "\u001b[1;31mAttributeError\u001b[0m: type object 'list' has no attribute 'self'"
     ]
    }
   ],
   "source": [
    "d1.keys_dict()"
   ]
  },
  {
   "cell_type": "code",
   "execution_count": 92,
   "id": "a832ffd9",
   "metadata": {},
   "outputs": [],
   "source": [
    "class dict_parsing:\n",
    "    \n",
    "    def __init__(self,a):\n",
    "        self.a = a\n",
    "        \n",
    "    def getkeys(self):\n",
    "        if self.notdict():\n",
    "            return list(self.a.keys())\n",
    "        \n",
    "    def getvalues(self):\n",
    "        if self.notdict():\n",
    "            return list(self.a.values())\n",
    "        \n",
    "        \n",
    "    def notdict(self):\n",
    "        if type(self.a) != dict:\n",
    "            raise Exception(self.a, \" Not a Dictionary \")\n",
    "        return 1\n",
    "    \n",
    "    def userinput(self):\n",
    "        self.a = eval(input())\n",
    "        print(self.a, type(self.a))\n",
    "        print(self.getkeys())\n",
    "        print(self.getvalues())\n",
    "        \n",
    "    def insertion(self,k,v):\n",
    "        self.a[k] = v\n",
    "        \n",
    "        \n",
    "    "
   ]
  },
  {
   "cell_type": "code",
   "execution_count": 93,
   "id": "0b0c15fe",
   "metadata": {},
   "outputs": [
    {
     "data": {
      "text/plain": [
       "<_io.TextIOWrapper name='mydict.py' mode='w' encoding='cp1252'>"
      ]
     },
     "execution_count": 93,
     "metadata": {},
     "output_type": "execute_result"
    }
   ],
   "source": [
    "open(\"mydict.py\",\"w\")"
   ]
  },
  {
   "cell_type": "code",
   "execution_count": 94,
   "id": "402e26cf",
   "metadata": {},
   "outputs": [
    {
     "name": "stdout",
     "output_type": "stream",
     "text": [
      " Volume in drive C is Windows\n",
      " Volume Serial Number is 5A98-DA59\n",
      "\n",
      " Directory of C:\\Users\\SAIRAM YERRAMSETTI\\Desktop\\KRISH NAIK\\FSDS\\live class\n",
      "\n",
      "23-01-2022  12:21    <DIR>          .\n",
      "23-01-2022  12:21    <DIR>          ..\n",
      "23-01-2022  10:16    <DIR>          .ipynb_checkpoints\n",
      "22-01-2022  11:07    <DIR>          __pycache__\n",
      "22-01-2022  12:09             6,815 module.ipynb\n",
      "22-01-2022  11:07               132 my_module.py\n",
      "23-01-2022  12:21                 0 mydict.py\n",
      "22-01-2022  11:55    <DIR>          myownproject\n",
      "22-01-2022  15:45             4,588 OOPS_concepts.ipynb\n",
      "22-01-2022  10:48               222 test1.py\n",
      "22-01-2022  10:47               203 test1.py.bak\n",
      "23-01-2022  12:20            24,762 Untitled.ipynb\n",
      "               7 File(s)         36,722 bytes\n",
      "               5 Dir(s)  116,694,405,120 bytes free\n"
     ]
    }
   ],
   "source": [
    "ls"
   ]
  },
  {
   "cell_type": "code",
   "execution_count": null,
   "id": "6404afa1",
   "metadata": {},
   "outputs": [],
   "source": []
  },
  {
   "cell_type": "code",
   "execution_count": null,
   "id": "c701cf1e",
   "metadata": {},
   "outputs": [],
   "source": []
  },
  {
   "cell_type": "code",
   "execution_count": null,
   "id": "34547866",
   "metadata": {},
   "outputs": [],
   "source": []
  },
  {
   "cell_type": "code",
   "execution_count": null,
   "id": "d4f45294",
   "metadata": {},
   "outputs": [],
   "source": []
  },
  {
   "cell_type": "code",
   "execution_count": null,
   "id": "58d708de",
   "metadata": {},
   "outputs": [],
   "source": []
  },
  {
   "cell_type": "code",
   "execution_count": null,
   "id": "909197fb",
   "metadata": {},
   "outputs": [],
   "source": []
  },
  {
   "cell_type": "code",
   "execution_count": null,
   "id": "f7037f34",
   "metadata": {},
   "outputs": [],
   "source": []
  },
  {
   "cell_type": "code",
   "execution_count": null,
   "id": "7c368e44",
   "metadata": {},
   "outputs": [],
   "source": []
  },
  {
   "cell_type": "code",
   "execution_count": null,
   "id": "0aece407",
   "metadata": {},
   "outputs": [],
   "source": []
  },
  {
   "cell_type": "code",
   "execution_count": null,
   "id": "d2bb5f4f",
   "metadata": {},
   "outputs": [],
   "source": []
  },
  {
   "cell_type": "code",
   "execution_count": null,
   "id": "1e390a47",
   "metadata": {},
   "outputs": [],
   "source": []
  },
  {
   "cell_type": "code",
   "execution_count": null,
   "id": "f832fdc3",
   "metadata": {},
   "outputs": [],
   "source": []
  },
  {
   "cell_type": "code",
   "execution_count": null,
   "id": "7a517749",
   "metadata": {},
   "outputs": [],
   "source": []
  },
  {
   "cell_type": "code",
   "execution_count": null,
   "id": "4db774f9",
   "metadata": {},
   "outputs": [],
   "source": []
  },
  {
   "cell_type": "code",
   "execution_count": null,
   "id": "d1713068",
   "metadata": {},
   "outputs": [],
   "source": []
  },
  {
   "cell_type": "code",
   "execution_count": null,
   "id": "c768d0d9",
   "metadata": {},
   "outputs": [],
   "source": []
  },
  {
   "cell_type": "code",
   "execution_count": null,
   "id": "d102a1b6",
   "metadata": {},
   "outputs": [],
   "source": []
  },
  {
   "cell_type": "code",
   "execution_count": null,
   "id": "002d61bc",
   "metadata": {},
   "outputs": [],
   "source": []
  },
  {
   "cell_type": "code",
   "execution_count": 3,
   "id": "f312bb9b",
   "metadata": {},
   "outputs": [],
   "source": [
    "fortuner = car('suv','bs4','petrol')"
   ]
  },
  {
   "cell_type": "code",
   "execution_count": 4,
   "id": "73b1f8ac",
   "metadata": {},
   "outputs": [],
   "source": [
    "nexon = car('min suv','bs6','petrol')"
   ]
  },
  {
   "cell_type": "code",
   "execution_count": 5,
   "id": "a8457592",
   "metadata": {},
   "outputs": [
    {
     "data": {
      "text/plain": [
       "'suv'"
      ]
     },
     "execution_count": 5,
     "metadata": {},
     "output_type": "execute_result"
    }
   ],
   "source": [
    "fortuner.body_type"
   ]
  },
  {
   "cell_type": "code",
   "execution_count": 6,
   "id": "59a8d4e4",
   "metadata": {},
   "outputs": [
    {
     "data": {
      "text/plain": [
       "'bs6'"
      ]
     },
     "execution_count": 6,
     "metadata": {},
     "output_type": "execute_result"
    }
   ],
   "source": [
    "nexon.engine"
   ]
  },
  {
   "cell_type": "code",
   "execution_count": null,
   "id": "9fcca8b9",
   "metadata": {},
   "outputs": [],
   "source": []
  }
 ],
 "metadata": {
  "kernelspec": {
   "display_name": "Python 3 (ipykernel)",
   "language": "python",
   "name": "python3"
  },
  "language_info": {
   "codemirror_mode": {
    "name": "ipython",
    "version": 3
   },
   "file_extension": ".py",
   "mimetype": "text/x-python",
   "name": "python",
   "nbconvert_exporter": "python",
   "pygments_lexer": "ipython3",
   "version": "3.9.7"
  }
 },
 "nbformat": 4,
 "nbformat_minor": 5
}
