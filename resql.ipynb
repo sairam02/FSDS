{
 "cells": [
  {
   "cell_type": "code",
   "execution_count": 1,
   "id": "c77ac421",
   "metadata": {},
   "outputs": [],
   "source": [
    "import mysql.connector as conn"
   ]
  },
  {
   "cell_type": "code",
   "execution_count": 2,
   "id": "b546fd1d",
   "metadata": {},
   "outputs": [],
   "source": [
    "mydb = conn.connect(host='localhost',user = 'root', passwd= \"123456\")"
   ]
  },
  {
   "cell_type": "code",
   "execution_count": 3,
   "id": "ee4c776c",
   "metadata": {},
   "outputs": [],
   "source": [
    "cursor = mydb.cursor()"
   ]
  },
  {
   "cell_type": "code",
   "execution_count": 4,
   "id": "39d55807",
   "metadata": {},
   "outputs": [],
   "source": [
    "cursor.execute(\"show databases\")"
   ]
  },
  {
   "cell_type": "code",
   "execution_count": 5,
   "id": "e2166249",
   "metadata": {},
   "outputs": [
    {
     "data": {
      "text/plain": [
       "[('glassdata',),\n",
       " ('information_schema',),\n",
       " ('mysql',),\n",
       " ('performance_schema',),\n",
       " ('sakila',),\n",
       " ('student1',),\n",
       " ('sys',),\n",
       " ('testramineuron',),\n",
       " ('world',)]"
      ]
     },
     "execution_count": 5,
     "metadata": {},
     "output_type": "execute_result"
    }
   ],
   "source": [
    "cursor.fetchall()"
   ]
  },
  {
   "cell_type": "code",
   "execution_count": 7,
   "id": "1a30ddad",
   "metadata": {},
   "outputs": [],
   "source": [
    "#cursor.execute(\"create database testramineuron\")"
   ]
  },
  {
   "cell_type": "code",
   "execution_count": 9,
   "id": "49cbb50d",
   "metadata": {},
   "outputs": [],
   "source": [
    "cursor.execute(\"create table testramineuron.ineuron(stuid INT(10), firstname VARCHAR(30), lastname VARCHAR(30),regid INT(10), classname VARCHAR(30))\")"
   ]
  },
  {
   "cell_type": "code",
   "execution_count": 10,
   "id": "ceb49be8",
   "metadata": {},
   "outputs": [],
   "source": [
    "cursor.execute('use testramineuron')"
   ]
  },
  {
   "cell_type": "code",
   "execution_count": 12,
   "id": "2715479f",
   "metadata": {},
   "outputs": [],
   "source": [
    "cursor.execute('show tables')"
   ]
  },
  {
   "cell_type": "code",
   "execution_count": 13,
   "id": "a4d8febf",
   "metadata": {},
   "outputs": [
    {
     "data": {
      "text/plain": [
       "[('ineuron',)]"
      ]
     },
     "execution_count": 13,
     "metadata": {},
     "output_type": "execute_result"
    }
   ],
   "source": [
    "cursor.fetchall()"
   ]
  },
  {
   "cell_type": "code",
   "execution_count": 14,
   "id": "cf1ca2c0",
   "metadata": {},
   "outputs": [],
   "source": [
    "cursor.execute('insert into testramineuron.ineuron values(845855,\"ram\",\"sai\",22, \"fsds\")')"
   ]
  },
  {
   "cell_type": "code",
   "execution_count": 15,
   "id": "ad4e1c7e",
   "metadata": {},
   "outputs": [],
   "source": [
    "mydb.commit()"
   ]
  },
  {
   "cell_type": "code",
   "execution_count": 16,
   "id": "5b093d58",
   "metadata": {},
   "outputs": [],
   "source": [
    "cursor.execute(\"select * from testramineuron.ineuron\")"
   ]
  },
  {
   "cell_type": "code",
   "execution_count": 17,
   "id": "a6f8823d",
   "metadata": {},
   "outputs": [
    {
     "data": {
      "text/plain": [
       "[(845855, 'ram', 'sai', 22, 'fsds')]"
      ]
     },
     "execution_count": 17,
     "metadata": {},
     "output_type": "execute_result"
    }
   ],
   "source": [
    "cursor.fetchall()"
   ]
  },
  {
   "cell_type": "code",
   "execution_count": 18,
   "id": "5711c07f",
   "metadata": {},
   "outputs": [],
   "source": [
    "cursor.execute('insert into testramineuron.ineuron values(845856,\"kj\",\"sumi\",20, \"fsds\")')"
   ]
  },
  {
   "cell_type": "code",
   "execution_count": 19,
   "id": "8d929240",
   "metadata": {},
   "outputs": [],
   "source": [
    "mydb.commit()"
   ]
  },
  {
   "cell_type": "code",
   "execution_count": 20,
   "id": "8ee3a47b",
   "metadata": {},
   "outputs": [],
   "source": [
    "cursor.execute(\"select * from testramineuron.ineuron\")"
   ]
  },
  {
   "cell_type": "code",
   "execution_count": 21,
   "id": "8c4dbc5c",
   "metadata": {},
   "outputs": [
    {
     "data": {
      "text/plain": [
       "[(845855, 'ram', 'sai', 22, 'fsds'), (845856, 'kj', 'sumi', 20, 'fsds')]"
      ]
     },
     "execution_count": 21,
     "metadata": {},
     "output_type": "execute_result"
    }
   ],
   "source": [
    "cursor.fetchall()"
   ]
  },
  {
   "cell_type": "code",
   "execution_count": null,
   "id": "b81eacec",
   "metadata": {},
   "outputs": [],
   "source": []
  }
 ],
 "metadata": {
  "kernelspec": {
   "display_name": "Python 3 (ipykernel)",
   "language": "python",
   "name": "python3"
  },
  "language_info": {
   "codemirror_mode": {
    "name": "ipython",
    "version": 3
   },
   "file_extension": ".py",
   "mimetype": "text/x-python",
   "name": "python",
   "nbconvert_exporter": "python",
   "pygments_lexer": "ipython3",
   "version": "3.9.7"
  }
 },
 "nbformat": 4,
 "nbformat_minor": 5
}
