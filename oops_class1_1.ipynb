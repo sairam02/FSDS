{
 "cells": [
  {
   "cell_type": "code",
   "execution_count": 1,
   "id": "320f50fe",
   "metadata": {},
   "outputs": [],
   "source": [
    "import mydict"
   ]
  },
  {
   "cell_type": "code",
   "execution_count": 2,
   "id": "b024a8fe",
   "metadata": {},
   "outputs": [],
   "source": [
    "d = mydict.dict_parsing({\"k1\": \"ram\", \"k2\": [1,2,3,4,5]})"
   ]
  },
  {
   "cell_type": "code",
   "execution_count": 3,
   "id": "8cd298fa",
   "metadata": {},
   "outputs": [
    {
     "data": {
      "text/plain": [
       "['k1', 'k2']"
      ]
     },
     "execution_count": 3,
     "metadata": {},
     "output_type": "execute_result"
    }
   ],
   "source": [
    "d.getkeys()"
   ]
  },
  {
   "cell_type": "code",
   "execution_count": 4,
   "id": "06a538d6",
   "metadata": {},
   "outputs": [],
   "source": [
    "from mydict import dict_parsing"
   ]
  },
  {
   "cell_type": "code",
   "execution_count": 5,
   "id": "701e9fba",
   "metadata": {},
   "outputs": [],
   "source": [
    "d1 = dict_parsing({\"k1\": \"ram\", \"k2\": [1,2,3,4,5]})"
   ]
  },
  {
   "cell_type": "code",
   "execution_count": 6,
   "id": "2d8cf343",
   "metadata": {},
   "outputs": [
    {
     "data": {
      "text/plain": [
       "['k1', 'k2']"
      ]
     },
     "execution_count": 6,
     "metadata": {},
     "output_type": "execute_result"
    }
   ],
   "source": [
    "d1.getkeys()"
   ]
  },
  {
   "cell_type": "code",
   "execution_count": 7,
   "id": "258ffb13",
   "metadata": {},
   "outputs": [
    {
     "data": {
      "text/plain": [
       "['ram', [1, 2, 3, 4, 5]]"
      ]
     },
     "execution_count": 7,
     "metadata": {},
     "output_type": "execute_result"
    }
   ],
   "source": [
    "d1.getvalues()"
   ]
  },
  {
   "cell_type": "code",
   "execution_count": 8,
   "id": "4f178f76",
   "metadata": {},
   "outputs": [],
   "source": [
    "import mydict2"
   ]
  },
  {
   "cell_type": "code",
   "execution_count": 10,
   "id": "3c217c31",
   "metadata": {
    "scrolled": true
   },
   "outputs": [],
   "source": [
    "from mydict2 import dict_parsing2"
   ]
  },
  {
   "cell_type": "code",
   "execution_count": 11,
   "id": "bee04223",
   "metadata": {},
   "outputs": [],
   "source": [
    "d2 = dict_parsing2({\"k1\": \"ram\", \"k2\": [1,2,3,4,5]})"
   ]
  },
  {
   "cell_type": "code",
   "execution_count": 12,
   "id": "a5816fd1",
   "metadata": {},
   "outputs": [
    {
     "data": {
      "text/plain": [
       "['k1', 'k2']"
      ]
     },
     "execution_count": 12,
     "metadata": {},
     "output_type": "execute_result"
    }
   ],
   "source": [
    "d2.getkeys()"
   ]
  },
  {
   "cell_type": "code",
   "execution_count": null,
   "id": "290d848f",
   "metadata": {},
   "outputs": [],
   "source": []
  }
 ],
 "metadata": {
  "kernelspec": {
   "display_name": "Python 3 (ipykernel)",
   "language": "python",
   "name": "python3"
  },
  "language_info": {
   "codemirror_mode": {
    "name": "ipython",
    "version": 3
   },
   "file_extension": ".py",
   "mimetype": "text/x-python",
   "name": "python",
   "nbconvert_exporter": "python",
   "pygments_lexer": "ipython3",
   "version": "3.9.7"
  }
 },
 "nbformat": 4,
 "nbformat_minor": 5
}
